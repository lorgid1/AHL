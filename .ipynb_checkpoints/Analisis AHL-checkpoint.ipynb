{
 "cells": [
  {
   "cell_type": "markdown",
   "id": "591af6fa",
   "metadata": {},
   "source": [
    "# Archivo Historico de Localidades\n",
    "(Historical Archive of Localities)"
   ]
  },
  {
   "cell_type": "code",
   "execution_count": 33,
   "id": "3463f14c",
   "metadata": {},
   "outputs": [],
   "source": [
    "from zipfile import ZipFile\n",
    "from io import BytesIO\n",
    "import pandas as pd\n",
    "import numpy as np\n"
   ]
  },
  {
   "cell_type": "code",
   "execution_count": 34,
   "id": "34468914",
   "metadata": {},
   "outputs": [],
   "source": [
    "file_name = 'C:/Users/Lorrain/Documents/Datos/AHL00.zip' #Archivo principal"
   ]
  },
  {
   "cell_type": "markdown",
   "id": "c458bc25",
   "metadata": {},
   "source": [
    "Contenido del archivo principal / Content of main archive:"
   ]
  },
  {
   "cell_type": "code",
   "execution_count": 35,
   "id": "564ca042",
   "metadata": {},
   "outputs": [
    {
     "name": "stdout",
     "output_type": "stream",
     "text": [
      "Contenido del zip:\n",
      "\n",
      "['AHL01.zip', 'AHL02.zip', 'AHL03.zip', 'AHL04.zip', 'AHL05.zip', 'AHL06.zip', 'AHL07.zip', 'AHL08.zip', 'AHL09.zip', 'AHL10.zip', 'AHL11.zip', 'AHL12.zip', 'AHL13.zip', 'AHL14.zip', 'AHL15.zip', 'AHL16.zip', 'AHL17.zip', 'AHL18.zip', 'AHL19.zip', 'AHL20.zip', 'AHL21.zip', 'AHL22.zip', 'AHL23.zip', 'AHL24.zip', 'AHL25.zip', 'AHL26.zip', 'AHL27.zip', 'AHL28.zip', 'AHL29.zip', 'AHL30.zip', 'AHL31.zip', 'AHL32.zip']\n"
     ]
    }
   ],
   "source": [
    "with ZipFile(file_name, 'r') as zip_file:\n",
    "    print('Contenido del zip:', end = '\\n\\n')\n",
    "    lista_zips = zip_file.namelist()\n",
    "    print(lista_zips)"
   ]
  },
  {
   "cell_type": "markdown",
   "id": "881c84b6",
   "metadata": {},
   "source": [
    "## Archivo habitantes / Habitantes file"
   ]
  },
  {
   "cell_type": "markdown",
   "id": "acdcb894",
   "metadata": {},
   "source": [
    "En general INEGI utiliza la codificacion 'utf-8', pero hay veces que los datos estan en 'Windows-1252' (tambien con codigo 'cp1252') cuando los manipula y exporta desde Excel (o tal vez Access).  \n",
    "\n",
    "El archivo zip no es tan grande y se tiene la suficente memoria para extraer los archivos sin descomprimir. \n",
    "\n",
    "--------------------------------------------\n",
    "\n",
    "INEGI normally encodes its data in 'utf-8', but sometimes it is in 'Windows-1252' (which is the same as 'cp1252') when its manipulated and exported from Excel (or maybe Access). \n",
    "\n",
    "The zipfile is not that big and the computer has enough memory so files will be extracted without uncompressing."
   ]
  },
  {
   "cell_type": "code",
   "execution_count": 39,
   "id": "9a4b639e",
   "metadata": {},
   "outputs": [
    {
     "name": "stdout",
     "output_type": "stream",
     "text": [
      "Contenido del zip estatal / State zip content:\n",
      "\n",
      "['AHL01Habitantes.csv', 'AHL01Maestro.csv', 'AHL01Movimientos.csv', 'AHL01Res_hist.csv', 'Estructura_Archivos_AHL.pdf']\n",
      "\n",
      "Guardando informacion en variable: - habitantes -\n"
     ]
    }
   ],
   "source": [
    "with ZipFile(file_name, 'r') as zip_file: # Primer zip\n",
    "    sub_zip = BytesIO(zip_file.read(lista_zips[0])) # Segundo zip\n",
    "    with ZipFile(sub_zip, 'r') as info_estatal:\n",
    "        lista_estatal = info_estatal.namelist()\n",
    "        \n",
    "        print('Contenido del zip estatal / State zip content:', end = '\\n\\n')\n",
    "        print(lista_estatal, end = '\\n\\n')\n",
    "        \n",
    "        print('Guardando informacion en variable: - habitantes -')\n",
    "#\\n\\n\\t- maestro - movimientos - res_hist -')\n",
    "        \n",
    "        with info_estatal.open('AHL01Habitantes.csv', 'r') as archivo: \n",
    "            habitantes = pd.read_csv(archivo, encoding = 'cp1252', \n",
    "                                     dtype={\n",
    "                                         'CVE_GEOEST': str # Definir la columna como string\n",
    "                                     })\n"
   ]
  },
  {
   "cell_type": "code",
   "execution_count": 28,
   "id": "eab760ba",
   "metadata": {},
   "outputs": [
    {
     "data": {
      "text/html": [
       "<div>\n",
       "<style scoped>\n",
       "    .dataframe tbody tr th:only-of-type {\n",
       "        vertical-align: middle;\n",
       "    }\n",
       "\n",
       "    .dataframe tbody tr th {\n",
       "        vertical-align: top;\n",
       "    }\n",
       "\n",
       "    .dataframe thead th {\n",
       "        text-align: right;\n",
       "    }\n",
       "</style>\n",
       "<table border=\"1\" class=\"dataframe\">\n",
       "  <thead>\n",
       "    <tr style=\"text-align: right;\">\n",
       "      <th></th>\n",
       "      <th>CLAVE</th>\n",
       "      <th>CVE_GEOEST</th>\n",
       "      <th>EVE_CENSAL</th>\n",
       "      <th>INDICE_HAB</th>\n",
       "      <th>FUENTE</th>\n",
       "      <th>TOT_HAB</th>\n",
       "      <th>TOT_HOM</th>\n",
       "      <th>TOT_MUJ</th>\n",
       "    </tr>\n",
       "  </thead>\n",
       "  <tbody>\n",
       "    <tr>\n",
       "      <th>0</th>\n",
       "      <td>1</td>\n",
       "      <td>010010001</td>\n",
       "      <td>1900</td>\n",
       "      <td>NaN</td>\n",
       "      <td>Censo</td>\n",
       "      <td>35052</td>\n",
       "      <td>16229</td>\n",
       "      <td>18823</td>\n",
       "    </tr>\n",
       "    <tr>\n",
       "      <th>1</th>\n",
       "      <td>1</td>\n",
       "      <td>010010001</td>\n",
       "      <td>1910</td>\n",
       "      <td>NaN</td>\n",
       "      <td>Censo</td>\n",
       "      <td>45198</td>\n",
       "      <td>20979</td>\n",
       "      <td>24219</td>\n",
       "    </tr>\n",
       "    <tr>\n",
       "      <th>2</th>\n",
       "      <td>1</td>\n",
       "      <td>010010001</td>\n",
       "      <td>1921</td>\n",
       "      <td>NaN</td>\n",
       "      <td>Censo</td>\n",
       "      <td>48041</td>\n",
       "      <td>21690</td>\n",
       "      <td>26351</td>\n",
       "    </tr>\n",
       "    <tr>\n",
       "      <th>3</th>\n",
       "      <td>1</td>\n",
       "      <td>010010001</td>\n",
       "      <td>1930</td>\n",
       "      <td>NaN</td>\n",
       "      <td>Censo</td>\n",
       "      <td>62244</td>\n",
       "      <td>28687</td>\n",
       "      <td>33557</td>\n",
       "    </tr>\n",
       "    <tr>\n",
       "      <th>4</th>\n",
       "      <td>1</td>\n",
       "      <td>010010001</td>\n",
       "      <td>1940</td>\n",
       "      <td>NaN</td>\n",
       "      <td>Censo</td>\n",
       "      <td>82234</td>\n",
       "      <td>37821</td>\n",
       "      <td>44413</td>\n",
       "    </tr>\n",
       "  </tbody>\n",
       "</table>\n",
       "</div>"
      ],
      "text/plain": [
       "   CLAVE CVE_GEOEST  EVE_CENSAL  INDICE_HAB FUENTE TOT_HAB TOT_HOM TOT_MUJ\n",
       "0      1  010010001        1900         NaN  Censo   35052   16229   18823\n",
       "1      1  010010001        1910         NaN  Censo   45198   20979   24219\n",
       "2      1  010010001        1921         NaN  Censo   48041   21690   26351\n",
       "3      1  010010001        1930         NaN  Censo   62244   28687   33557\n",
       "4      1  010010001        1940         NaN  Censo   82234   37821   44413"
      ]
     },
     "execution_count": 28,
     "metadata": {},
     "output_type": "execute_result"
    }
   ],
   "source": [
    "habitantes.head()"
   ]
  },
  {
   "cell_type": "markdown",
   "id": "a0ed341c",
   "metadata": {},
   "source": [
    "Las claves en INEGI deben de ser manejadas como texto. Esto es cierto para CVE_GEOEST, que representa la clave geoestadistica de una localidad especifica. Si se importa como numero entonces a clave '010010001' se importará como 10010001. En otras palabras se eliminará el cero al principio de la clave que es necesario porque representa al estado en el que se encuentra la localidad y hay 32 en el pais.\n",
    "\n",
    "Cada localidad tiene una clave que esta formada por 9 caracteres numericos. Los primeros dos representan la clave del estado ('01'), los siguientes tres caracteres representan al municipio ('001'), y los ultimos cuatro numeros representan la clave de la localidad ('0001'). Los Estados estan organizados por orden alfabetico. Los municipios y localidades no son consistentes con este criterio porque cuando se crean nuevos la numeración no es reiniciada. Solo hay una regla de nomenclatura en las localidades, la clave '0001' siempre representará la cabecera municipal.\n",
    "\n",
    "\n",
    "--------------------------------------------\n",
    "\n",
    "Keys in INEGI should be treated like strings. This is true ofre CVE_GEOEST that representas the geo-statistical key of a specific locality. If this field is imported like a number then the key '010010001' will be imported with the format 10010001. It will eliminate the zero at hte begining an it is necesario because it represents the state in with de locality is in and there are 32 in the country.\n",
    "\n",
    "Each locality has a key that is formed by 9 numerical caracters. The first two represent the state key ('01'), the next three represent the municipality ('001'), and the las four numberes represent the key of the locality ('0001'). The States are organized in alphabetical order. The municipalites and localities are not consistent with this criteria because when a new entitty is created the numeration is no reiniciated.There is only one nomenclature rull in localities, the key '0001' will always represent the municipal head (the locality where the municipal government resides)."
   ]
  },
  {
   "cell_type": "code",
   "execution_count": 73,
   "id": "3b27862b",
   "metadata": {
    "scrolled": true
   },
   "outputs": [
    {
     "name": "stdout",
     "output_type": "stream",
     "text": [
      "<class 'pandas.core.frame.DataFrame'>\n",
      "RangeIndex: 18393 entries, 0 to 18392\n",
      "Data columns (total 8 columns):\n",
      " #   Column      Non-Null Count  Dtype  \n",
      "---  ------      --------------  -----  \n",
      " 0   CLAVE       18393 non-null  int64  \n",
      " 1   CVE_GEOEST  18393 non-null  object \n",
      " 2   EVE_CENSAL  18393 non-null  int64  \n",
      " 3   INDICE_HAB  0 non-null      float64\n",
      " 4   FUENTE      18393 non-null  object \n",
      " 5   TOT_HAB     17109 non-null  float64\n",
      " 6   TOT_HOM     11691 non-null  float64\n",
      " 7   TOT_MUJ     11677 non-null  float64\n",
      "dtypes: float64(4), int64(2), object(2)\n",
      "memory usage: 1.1+ MB\n"
     ]
    }
   ],
   "source": [
    "habitantes.info()"
   ]
  },
  {
   "cell_type": "markdown",
   "id": "03fb373b",
   "metadata": {},
   "source": [
    "La columna CLAVE es un numero consecutivo que es diferente para cada localidad del estado. Por eso tiene la misma cantidad de valores unicos que CVE_GEOEST.\n",
    "\n",
    "EVE_CENSAL representa el evento censal donde se obuvieron las mediciones de las columnas TOT_HAB (Total de habitantes), TOT_HOM (Total de hombres), y TOT_MUJ (Total de mujeres).\n",
    "\n",
    "Los valores unicos de FUENTE representan el tipo de evento censal.\n",
    "\n",
    "--------------------------------\n",
    "\n",
    "CLAVE is a consecutive number that is diferent for each locality of the state. That is why it has the same cuantity of values as CVE_GEOEST.\n",
    "\n",
    "EVE_CENSAL represents the censal event where the data of TOT_HAB (Total inhabitants), TOT_HOM (Men total), and TOT_MUJ (Women total).\n",
    "\n",
    "The unique values of FUENTE represent the tipe of censal event (Count or full Cense)."
   ]
  },
  {
   "cell_type": "code",
   "execution_count": 57,
   "id": "27a96a5a",
   "metadata": {},
   "outputs": [
    {
     "name": "stdout",
     "output_type": "stream",
     "text": [
      "Cantidad de valores unicos de CLAVE: 3903\n",
      "Cantidad de valores unicos de CVE_GEOEST: 3903\n",
      "Cantidad de valores unicos de EVE_CENSAL: 15\n",
      "Cantidad de valores unicos de INDICE_HAB: 1\n",
      "Cantidad de valores unicos de FUENTE: 2\n",
      "\n",
      "Valores unicos de EVE_CENSAL:\n",
      "\n",
      "[1900 1910 1921 1930 1940 1950 1960 1970 1980 1990 1995 2000 2005 2010\n",
      " 2020]\n",
      "\n",
      "Valores unicos de FUENTE:\n",
      "\n",
      "['Censo' 'Conteo']\n",
      "\n",
      "Valores unicos de INDICE_HAB:\n",
      "\n",
      "[nan]\n",
      "\n"
     ]
    }
   ],
   "source": [
    "lista_columnas = habitantes.columns.values.tolist()\n",
    "\n",
    "for col in lista_columnas[ :5]: \n",
    "    print(f'Cantidad de valores unicos de {col}: {len(habitantes[col].unique())}')\n",
    "    \n",
    "print()\n",
    "print('Valores unicos de EVE_CENSAL:', end = '\\n\\n')\n",
    "print(habitantes['EVE_CENSAL'].unique(), end = '\\n\\n')\n",
    "\n",
    "print('Valores unicos de FUENTE:', end = '\\n\\n')\n",
    "print(habitantes['FUENTE'].unique(), end = '\\n\\n')\n",
    "\n",
    "print('Valores unicos de INDICE_HAB:', end = '\\n\\n')\n",
    "print(habitantes['INDICE_HAB'].unique(), end = '\\n\\n')\n",
    "\n"
   ]
  },
  {
   "cell_type": "code",
   "execution_count": 70,
   "id": "922f763f",
   "metadata": {},
   "outputs": [],
   "source": [
    "habitantes['TOT_HAB'] =pd.to_numeric(habitantes['TOT_HAB'], \n",
    "                                     errors='coerce')\n",
    "\n",
    "habitantes['TOT_HOM'] =pd.to_numeric(habitantes['TOT_HOM'], \n",
    "                                     errors='coerce',\n",
    "                                     downcast='integer')\n",
    "\n",
    "habitantes['TOT_MUJ'] =pd.to_numeric(habitantes['TOT_MUJ'], \n",
    "                                     errors='coerce',\n",
    "                                     downcast='integer')"
   ]
  },
  {
   "cell_type": "code",
   "execution_count": 72,
   "id": "2d7a9ea7",
   "metadata": {},
   "outputs": [
    {
     "data": {
      "text/html": [
       "<div>\n",
       "<style scoped>\n",
       "    .dataframe tbody tr th:only-of-type {\n",
       "        vertical-align: middle;\n",
       "    }\n",
       "\n",
       "    .dataframe tbody tr th {\n",
       "        vertical-align: top;\n",
       "    }\n",
       "\n",
       "    .dataframe thead th {\n",
       "        text-align: right;\n",
       "    }\n",
       "</style>\n",
       "<table border=\"1\" class=\"dataframe\">\n",
       "  <thead>\n",
       "    <tr style=\"text-align: right;\">\n",
       "      <th></th>\n",
       "      <th>CLAVE</th>\n",
       "      <th>CVE_GEOEST</th>\n",
       "      <th>EVE_CENSAL</th>\n",
       "      <th>INDICE_HAB</th>\n",
       "      <th>FUENTE</th>\n",
       "      <th>TOT_HAB</th>\n",
       "      <th>TOT_HOM</th>\n",
       "      <th>TOT_MUJ</th>\n",
       "    </tr>\n",
       "  </thead>\n",
       "  <tbody>\n",
       "    <tr>\n",
       "      <th>2</th>\n",
       "      <td>1</td>\n",
       "      <td>010010001</td>\n",
       "      <td>1921</td>\n",
       "      <td>NaN</td>\n",
       "      <td>Censo</td>\n",
       "      <td>48041.0</td>\n",
       "      <td>21690.0</td>\n",
       "      <td>26351.0</td>\n",
       "    </tr>\n",
       "    <tr>\n",
       "      <th>38</th>\n",
       "      <td>6</td>\n",
       "      <td>010010097</td>\n",
       "      <td>1921</td>\n",
       "      <td>NaN</td>\n",
       "      <td>Censo</td>\n",
       "      <td>124.0</td>\n",
       "      <td>73.0</td>\n",
       "      <td>51.0</td>\n",
       "    </tr>\n",
       "    <tr>\n",
       "      <th>76</th>\n",
       "      <td>12</td>\n",
       "      <td>010010104</td>\n",
       "      <td>1921</td>\n",
       "      <td>NaN</td>\n",
       "      <td>Censo</td>\n",
       "      <td>37.0</td>\n",
       "      <td>24.0</td>\n",
       "      <td>13.0</td>\n",
       "    </tr>\n",
       "    <tr>\n",
       "      <th>91</th>\n",
       "      <td>13</td>\n",
       "      <td>010010105</td>\n",
       "      <td>1921</td>\n",
       "      <td>NaN</td>\n",
       "      <td>Censo</td>\n",
       "      <td>26.0</td>\n",
       "      <td>12.0</td>\n",
       "      <td>14.0</td>\n",
       "    </tr>\n",
       "    <tr>\n",
       "      <th>113</th>\n",
       "      <td>15</td>\n",
       "      <td>010010107</td>\n",
       "      <td>1921</td>\n",
       "      <td>NaN</td>\n",
       "      <td>Censo</td>\n",
       "      <td>57.0</td>\n",
       "      <td>32.0</td>\n",
       "      <td>25.0</td>\n",
       "    </tr>\n",
       "    <tr>\n",
       "      <th>...</th>\n",
       "      <td>...</td>\n",
       "      <td>...</td>\n",
       "      <td>...</td>\n",
       "      <td>...</td>\n",
       "      <td>...</td>\n",
       "      <td>...</td>\n",
       "      <td>...</td>\n",
       "      <td>...</td>\n",
       "    </tr>\n",
       "    <tr>\n",
       "      <th>16492</th>\n",
       "      <td>3231</td>\n",
       "      <td>010090028</td>\n",
       "      <td>1921</td>\n",
       "      <td>NaN</td>\n",
       "      <td>Censo</td>\n",
       "      <td>16.0</td>\n",
       "      <td>6.0</td>\n",
       "      <td>10.0</td>\n",
       "    </tr>\n",
       "    <tr>\n",
       "      <th>16545</th>\n",
       "      <td>3238</td>\n",
       "      <td>010090037</td>\n",
       "      <td>1921</td>\n",
       "      <td>NaN</td>\n",
       "      <td>Censo</td>\n",
       "      <td>62.0</td>\n",
       "      <td>33.0</td>\n",
       "      <td>29.0</td>\n",
       "    </tr>\n",
       "    <tr>\n",
       "      <th>16613</th>\n",
       "      <td>3251</td>\n",
       "      <td>010090051</td>\n",
       "      <td>1921</td>\n",
       "      <td>NaN</td>\n",
       "      <td>Censo</td>\n",
       "      <td>154.0</td>\n",
       "      <td>78.0</td>\n",
       "      <td>76.0</td>\n",
       "    </tr>\n",
       "    <tr>\n",
       "      <th>16656</th>\n",
       "      <td>3259</td>\n",
       "      <td>010090061</td>\n",
       "      <td>1921</td>\n",
       "      <td>NaN</td>\n",
       "      <td>Censo</td>\n",
       "      <td>149.0</td>\n",
       "      <td>78.0</td>\n",
       "      <td>71.0</td>\n",
       "    </tr>\n",
       "    <tr>\n",
       "      <th>16702</th>\n",
       "      <td>3266</td>\n",
       "      <td>010090068</td>\n",
       "      <td>1921</td>\n",
       "      <td>NaN</td>\n",
       "      <td>Censo</td>\n",
       "      <td>23.0</td>\n",
       "      <td>7.0</td>\n",
       "      <td>16.0</td>\n",
       "    </tr>\n",
       "  </tbody>\n",
       "</table>\n",
       "<p>313 rows × 8 columns</p>\n",
       "</div>"
      ],
      "text/plain": [
       "       CLAVE CVE_GEOEST  EVE_CENSAL  INDICE_HAB FUENTE  TOT_HAB  TOT_HOM  \\\n",
       "2          1  010010001        1921         NaN  Censo  48041.0  21690.0   \n",
       "38         6  010010097        1921         NaN  Censo    124.0     73.0   \n",
       "76        12  010010104        1921         NaN  Censo     37.0     24.0   \n",
       "91        13  010010105        1921         NaN  Censo     26.0     12.0   \n",
       "113       15  010010107        1921         NaN  Censo     57.0     32.0   \n",
       "...      ...        ...         ...         ...    ...      ...      ...   \n",
       "16492   3231  010090028        1921         NaN  Censo     16.0      6.0   \n",
       "16545   3238  010090037        1921         NaN  Censo     62.0     33.0   \n",
       "16613   3251  010090051        1921         NaN  Censo    154.0     78.0   \n",
       "16656   3259  010090061        1921         NaN  Censo    149.0     78.0   \n",
       "16702   3266  010090068        1921         NaN  Censo     23.0      7.0   \n",
       "\n",
       "       TOT_MUJ  \n",
       "2      26351.0  \n",
       "38        51.0  \n",
       "76        13.0  \n",
       "91        14.0  \n",
       "113       25.0  \n",
       "...        ...  \n",
       "16492     10.0  \n",
       "16545     29.0  \n",
       "16613     76.0  \n",
       "16656     71.0  \n",
       "16702     16.0  \n",
       "\n",
       "[313 rows x 8 columns]"
      ]
     },
     "execution_count": 72,
     "metadata": {},
     "output_type": "execute_result"
    }
   ],
   "source": [
    "habitantes.loc[habitantes['EVE_CENSAL'] == 1921]"
   ]
  },
  {
   "cell_type": "code",
   "execution_count": null,
   "id": "f402bc0d",
   "metadata": {},
   "outputs": [],
   "source": [
    "  "
   ]
  }
 ],
 "metadata": {
  "kernelspec": {
   "display_name": "Python [conda env:dataAn]",
   "language": "python",
   "name": "conda-env-dataAn-py"
  },
  "language_info": {
   "codemirror_mode": {
    "name": "ipython",
    "version": 3
   },
   "file_extension": ".py",
   "mimetype": "text/x-python",
   "name": "python",
   "nbconvert_exporter": "python",
   "pygments_lexer": "ipython3",
   "version": "3.8.8"
  }
 },
 "nbformat": 4,
 "nbformat_minor": 5
}
