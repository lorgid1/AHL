{
 "cells": [
  {
   "cell_type": "markdown",
   "id": "591af6fa",
   "metadata": {},
   "source": [
    "# Archivo Historico de Localidades\n",
    "(Historical Archive of Localities)"
   ]
  },
  {
   "cell_type": "markdown",
   "id": "f424fd85",
   "metadata": {},
   "source": [
    "El Archivo Historico de Localidades es una base de datos de INEGI con mas de 2,138,702 registros de los diferentes censo y conteos que se han realizado en la Republica Mexicana desde el año 1900 a la fecha."
   ]
  },
  {
   "cell_type": "code",
   "execution_count": 1,
   "id": "3463f14c",
   "metadata": {},
   "outputs": [],
   "source": [
    "# Librerias\n",
    "\n",
    "from zipfile import ZipFile\n",
    "from io import BytesIO\n",
    "import pandas as pd\n",
    "import numpy as np\n",
    "import os"
   ]
  },
  {
   "cell_type": "code",
   "execution_count": 2,
   "id": "afc4deef",
   "metadata": {},
   "outputs": [],
   "source": [
    "verbose = True  # Imprimir notas de ejecución"
   ]
  },
  {
   "cell_type": "markdown",
   "id": "1ba938cd",
   "metadata": {},
   "source": [
    "## Funciones"
   ]
  },
  {
   "cell_type": "code",
   "execution_count": 3,
   "id": "9a4b639e",
   "metadata": {},
   "outputs": [],
   "source": [
    "def extraer(ruta_zip, sub_zip, extraer, verbose = True):\n",
    "    '''\n",
    "    Función que extrae una archivo de los zips estatales y \n",
    "    lo regresa en formato de dataframe de pandas.\n",
    "    '''\n",
    "    archivo_extraer = sub_zip[0:5] + extraer + '.csv' # Nombre del archivo a extraer\n",
    "    #print(archivo_extraer)\n",
    "    \n",
    "    with ZipFile(ruta_zip, 'r') as zip_file:         # Zip general   \n",
    "        sub_zip = BytesIO(zip_file.read(sub_zip))    # Leer archivo de zip estatal\n",
    "        \n",
    "        with ZipFile(sub_zip, 'r') as info_estatal:  # Zip estatal\n",
    "            lista_estatal = info_estatal.namelist()  # Archivos contenidos\n",
    "\n",
    "            with info_estatal.open(archivo_extraer, 'r') as archivo:   # Archivo de interes\n",
    "                habitantes = pd.read_csv(archivo, encoding = 'cp1252', # Tiene esta codificación\n",
    "                                         dtype={                       # Definir como se importan las columnas\n",
    "                                             'CVE_GEOEST': str         # CVE_GEOEST como string\n",
    "                                         })\n",
    "            if verbose:\n",
    "#                print('Contenido del zip estatal / State zip content:', end = '\\n\\n')\n",
    "#                print(lista_estatal, end = '\\n\\n')\n",
    "                print(f'Extrayendo archivo: {archivo_extraer}...')\n",
    "    \n",
    "    return habitantes\n"
   ]
  },
  {
   "cell_type": "code",
   "execution_count": 4,
   "id": "34468914",
   "metadata": {},
   "outputs": [],
   "source": [
    "dir_datos = os.environ.get('DATA_DIR')                   # Directorio de los datos\n",
    "sub_dir = 'AHL'                                          # Sub-directorio del zip\n",
    "nom_archivo = 'AHL.zip'                                  # Nombre del zip\n",
    "ruta_zip = os.path.join(dir_datos, sub_dir, nom_archivo) # Ruta del archivo zip\n"
   ]
  },
  {
   "cell_type": "markdown",
   "id": "c458bc25",
   "metadata": {},
   "source": [
    "Contenido del archivo principal - Content of main archive:"
   ]
  },
  {
   "cell_type": "code",
   "execution_count": 5,
   "id": "564ca042",
   "metadata": {},
   "outputs": [
    {
     "name": "stdout",
     "output_type": "stream",
     "text": [
      "Contenido del zip:\n",
      "\n",
      "['AHL01.zip', 'AHL02.zip', 'AHL03.zip', 'AHL04.zip', 'AHL05.zip', 'AHL06.zip', 'AHL07.zip', 'AHL08.zip', 'AHL09.zip', 'AHL10.zip', 'AHL11.zip', 'AHL12.zip', 'AHL13.zip', 'AHL14.zip', 'AHL15.zip', 'AHL16.zip', 'AHL17.zip', 'AHL18.zip', 'AHL19.zip', 'AHL20.zip', 'AHL21.zip', 'AHL22.zip', 'AHL23.zip', 'AHL24.zip', 'AHL25.zip', 'AHL26.zip', 'AHL27.zip', 'AHL28.zip', 'AHL29.zip', 'AHL30.zip', 'AHL31.zip', 'AHL32.zip']\n"
     ]
    }
   ],
   "source": [
    "with ZipFile(ruta_zip, 'r') as zip_file:\n",
    "    sub_zips = zip_file.namelist()\n",
    "    if verbose:\n",
    "        print('Contenido del zip:', end = '\\n\\n')\n",
    "        print(sub_zips)"
   ]
  },
  {
   "cell_type": "markdown",
   "id": "881c84b6",
   "metadata": {},
   "source": [
    "## Archivo habitantes"
   ]
  },
  {
   "cell_type": "markdown",
   "id": "acdcb894",
   "metadata": {},
   "source": [
    "En general INEGI utiliza la codificacion 'utf-8', pero hay veces que los datos se exportan en la codificación que el sistema operativo Windows usa para el español llamado 'Windows-1252' (tambien con codigo 'cp1252'). Esto sucede generalmente cuando manipula y exporta los datos desde Excel (o tal vez Access).  \n",
    "\n",
    "--------------------------------------------\n",
    "\n",
    "INEGI normally encodes its data in 'utf-8', but sometimes it is in 'Windows-1252' (which is the same as 'cp1252') when its manipulated and exported from Excel (or maybe Access). "
   ]
  },
  {
   "cell_type": "code",
   "execution_count": 6,
   "id": "fd5049d6",
   "metadata": {},
   "outputs": [],
   "source": [
    "habitantes = pd.concat(\n",
    "    [extraer(ruta_zip, sub_zip, 'Habitantes', False) for sub_zip in sub_zips])\n"
   ]
  },
  {
   "cell_type": "code",
   "execution_count": 12,
   "id": "8c0250f5",
   "metadata": {},
   "outputs": [
    {
     "name": "stdout",
     "output_type": "stream",
     "text": [
      "<class 'pandas.core.frame.DataFrame'>\n",
      "Int64Index: 2138702 entries, 0 to 55293\n",
      "Data columns (total 8 columns):\n",
      " #   Column      Non-Null Count    Dtype \n",
      "---  ------      --------------    ----- \n",
      " 0   CLAVE       2138702 non-null  int64 \n",
      " 1   CVE_GEOEST  2138702 non-null  object\n",
      " 2   EVE_CENSAL  2138702 non-null  int64 \n",
      " 3   INDICE_HAB  2138702 non-null  int64 \n",
      " 4   FUENTE      2138702 non-null  object\n",
      " 5   TOT_HAB     2138702 non-null  object\n",
      " 6   TOT_HOM     2138702 non-null  object\n",
      " 7   TOT_MUJ     2138702 non-null  object\n",
      "dtypes: int64(3), object(5)\n",
      "memory usage: 146.9+ MB\n"
     ]
    }
   ],
   "source": [
    "# Información general\n",
    "\n",
    "#habitantes.memory_usage().sum() / 1_000_000_000  # Memoria utilizada por el archivo\n",
    "habitantes.info(show_counts = True)              # Valores nulos y tipo de datos por columna\n",
    "#habitantes.describe()                            # Estadisticas por columna\n",
    "\n",
    "\n",
    "\n"
   ]
  },
  {
   "cell_type": "code",
   "execution_count": 14,
   "id": "eab760ba",
   "metadata": {},
   "outputs": [
    {
     "data": {
      "text/html": [
       "<div>\n",
       "<style scoped>\n",
       "    .dataframe tbody tr th:only-of-type {\n",
       "        vertical-align: middle;\n",
       "    }\n",
       "\n",
       "    .dataframe tbody tr th {\n",
       "        vertical-align: top;\n",
       "    }\n",
       "\n",
       "    .dataframe thead th {\n",
       "        text-align: right;\n",
       "    }\n",
       "</style>\n",
       "<table border=\"1\" class=\"dataframe\">\n",
       "  <thead>\n",
       "    <tr style=\"text-align: right;\">\n",
       "      <th></th>\n",
       "      <th>CLAVE</th>\n",
       "      <th>CVE_GEOEST</th>\n",
       "      <th>EVE_CENSAL</th>\n",
       "      <th>INDICE_HAB</th>\n",
       "      <th>FUENTE</th>\n",
       "      <th>TOT_HAB</th>\n",
       "      <th>TOT_HOM</th>\n",
       "      <th>TOT_MUJ</th>\n",
       "    </tr>\n",
       "  </thead>\n",
       "  <tbody>\n",
       "    <tr>\n",
       "      <th>0</th>\n",
       "      <td>1</td>\n",
       "      <td>010010001</td>\n",
       "      <td>1940</td>\n",
       "      <td>14962331</td>\n",
       "      <td>Censo</td>\n",
       "      <td>82,234</td>\n",
       "      <td>37,821</td>\n",
       "      <td>44,413</td>\n",
       "    </tr>\n",
       "    <tr>\n",
       "      <th>1</th>\n",
       "      <td>1</td>\n",
       "      <td>010010001</td>\n",
       "      <td>1930</td>\n",
       "      <td>14962332</td>\n",
       "      <td>Censo</td>\n",
       "      <td>62,244</td>\n",
       "      <td>28,687</td>\n",
       "      <td>33,557</td>\n",
       "    </tr>\n",
       "    <tr>\n",
       "      <th>2</th>\n",
       "      <td>1</td>\n",
       "      <td>010010001</td>\n",
       "      <td>1900</td>\n",
       "      <td>14962333</td>\n",
       "      <td>Censo</td>\n",
       "      <td>35,052</td>\n",
       "      <td>16,229</td>\n",
       "      <td>18,823</td>\n",
       "    </tr>\n",
       "    <tr>\n",
       "      <th>3</th>\n",
       "      <td>1</td>\n",
       "      <td>010010001</td>\n",
       "      <td>1970</td>\n",
       "      <td>14962334</td>\n",
       "      <td>Censo</td>\n",
       "      <td>181,277</td>\n",
       "      <td>-</td>\n",
       "      <td>-</td>\n",
       "    </tr>\n",
       "    <tr>\n",
       "      <th>4</th>\n",
       "      <td>1</td>\n",
       "      <td>010010001</td>\n",
       "      <td>2005</td>\n",
       "      <td>14962335</td>\n",
       "      <td>Conteo</td>\n",
       "      <td>663,671</td>\n",
       "      <td>319,649</td>\n",
       "      <td>344,022</td>\n",
       "    </tr>\n",
       "  </tbody>\n",
       "</table>\n",
       "</div>"
      ],
      "text/plain": [
       "   CLAVE CVE_GEOEST  EVE_CENSAL  INDICE_HAB  FUENTE  TOT_HAB  TOT_HOM  TOT_MUJ\n",
       "0      1  010010001        1940    14962331   Censo   82,234   37,821   44,413\n",
       "1      1  010010001        1930    14962332   Censo   62,244   28,687   33,557\n",
       "2      1  010010001        1900    14962333   Censo   35,052   16,229   18,823\n",
       "3      1  010010001        1970    14962334   Censo  181,277        -        -\n",
       "4      1  010010001        2005    14962335  Conteo  663,671  319,649  344,022"
      ]
     },
     "execution_count": 14,
     "metadata": {},
     "output_type": "execute_result"
    }
   ],
   "source": [
    "habitantes.head()"
   ]
  },
  {
   "cell_type": "markdown",
   "id": "a0ed341c",
   "metadata": {},
   "source": [
    "Las claves en INEGI deben de ser manejadas como texto. Esto es cierto para CVE_GEOEST, que representa la clave geoestadistica de una localidad especifica. Si se importa como numero entonces a clave '010010001' se importará como 10010001. En otras palabras se eliminará el cero al principio de la clave que es necesario porque representa al estado en el que se encuentra la localidad y hay 32 en el pais.\n",
    "\n",
    "Cada localidad tiene una clave que esta formada por 9 caracteres numericos. Los primeros dos representan la clave del estado ('01'), los siguientes tres caracteres representan al municipio ('001'), y los ultimos cuatro numeros representan la clave de la localidad ('0001'). Los Estados estan organizados por orden alfabetico. Los municipios y localidades no son consistentes con este criterio porque cuando se crean nuevos registros la numeración no es reiniciada. Solo hay una regla de nomenclatura para las localidades, la clave '0001' siempre representará la cabecera municipal.\n",
    "\n",
    "\n",
    "--------------------------------------------\n",
    "\n",
    "Keys in INEGI should be treated like strings. This is true ofre CVE_GEOEST that representas the geo-statistical key of a specific locality. If this field is imported like a number then the key '010010001' will be imported with the format 10010001. It will eliminate the zero at hte begining an it is necesario because it represents the state in with de locality is in and there are 32 in the country.\n",
    "\n",
    "Each locality has a key that is formed by 9 numerical caracters. The first two represent the state key ('01'), the next three represent the municipality ('001'), and the las four numberes represent the key of the locality ('0001'). The States are organized in alphabetical order. The municipalites and localities are not consistent with this criteria because when a new entitty is created the numeration is no reiniciated.There is only one nomenclature rull in localities, the key '0001' will always represent the municipal head (the locality where the municipal government resides)."
   ]
  },
  {
   "cell_type": "code",
   "execution_count": 33,
   "id": "f2cef0b0",
   "metadata": {},
   "outputs": [
    {
     "name": "stdout",
     "output_type": "stream",
     "text": [
      "408754 408754\n"
     ]
    }
   ],
   "source": [
    "#len(habitantes.CVE_GEOEST.unique())\n",
    "#habitantes.CVE_GEOEST.value_counts()\n",
    "GEOEST_CVE = habitantes['CVE_GEOEST'] + habitantes['CLAVE'].apply(str)\n",
    "print(len(habitantes.CVE_GEOEST.unique()), len(GEOEST_CVE.unique()))"
   ]
  },
  {
   "cell_type": "markdown",
   "id": "03fb373b",
   "metadata": {},
   "source": [
    "La columna CLAVE es un numero consecutivo que es diferente para cada localidad del estado. Por eso tiene la misma cantidad de valores unicos que CVE_GEOEST.\n",
    "\n",
    "EVE_CENSAL representa el evento censal donde se obuvieron las mediciones de las columnas TOT_HAB (Total de habitantes), TOT_HOM (Total de hombres), y TOT_MUJ (Total de mujeres).\n",
    "\n",
    "Los valores unicos de FUENTE representan el tipo de evento censal.\n",
    "\n",
    "--------------------------------\n",
    "\n",
    "CLAVE is a consecutive number that is diferent for each locality of the state. That is why it has the same cuantity of values as CVE_GEOEST.\n",
    "\n",
    "EVE_CENSAL represents the censal event where the data of TOT_HAB (Total inhabitants), TOT_HOM (Men total), and TOT_MUJ (Women total).\n",
    "\n",
    "The unique values of FUENTE represent the tipe of censal event (Count or full Cense)."
   ]
  },
  {
   "cell_type": "code",
   "execution_count": 13,
   "id": "569e6e33",
   "metadata": {},
   "outputs": [
    {
     "data": {
      "text/plain": [
       "2010    279187\n",
       "2020    275867\n",
       "2005    265585\n",
       "2000    255718\n",
       "1995    252784\n",
       "1990    173771\n",
       "1980    129895\n",
       "1970     98154\n",
       "1960     87878\n",
       "1950     75029\n",
       "1940     69733\n",
       "1930     57411\n",
       "1921     43851\n",
       "1910     41045\n",
       "1900     32605\n",
       "1939       179\n",
       "2            8\n",
       "1920         1\n",
       "2013         1\n",
       "Name: EVE_CENSAL, dtype: int64"
      ]
     },
     "execution_count": 13,
     "metadata": {},
     "output_type": "execute_result"
    }
   ],
   "source": [
    "#sorted(habitantes.EVE_CENSAL.unique().tolist()) # Lista de valores unicos en EVE_CENSAL\n",
    "habitantes.EVE_CENSAL.value_counts()\n",
    "#habitantes[habitantes.EVE_CENSAL==2]\n",
    "\n",
    "#habitantes.CLAVE.value_counts().unique()\n"
   ]
  },
  {
   "cell_type": "code",
   "execution_count": 16,
   "id": "27a96a5a",
   "metadata": {},
   "outputs": [
    {
     "name": "stdout",
     "output_type": "stream",
     "text": [
      "Cantidad de valores unicos de CLAVE: 408754\n",
      "Cantidad de valores unicos de CVE_GEOEST: 408754\n",
      "Cantidad de valores unicos de EVE_CENSAL: 19\n",
      "Cantidad de valores unicos de INDICE_HAB: 2138702\n",
      "Cantidad de valores unicos de FUENTE: 2\n",
      "\n",
      "Valores unicos de EVE_CENSAL:\n",
      "\n",
      "[1940 1930 1900 1970 2005 1995 1950 2020 1960 2010 1910 2000 1980 1990\n",
      " 1921 1939 1920    2 2013]\n",
      "\n",
      "Valores unicos de FUENTE:\n",
      "\n",
      "['Censo' 'Conteo']\n",
      "\n",
      "Valores unicos de INDICE_HAB:\n",
      "\n",
      "[14962331 14962332 14962333 ... 17101030 17101031 17101032]\n",
      "\n"
     ]
    }
   ],
   "source": [
    "lista_columnas = habitantes.columns.values.tolist()\n",
    "\n",
    "for col in lista_columnas[ :5]: \n",
    "    print(f'Cantidad de valores unicos de {col}: {len(habitantes[col].unique())}')\n",
    "    \n",
    "print()\n",
    "print('Valores unicos de EVE_CENSAL:', end = '\\n\\n')\n",
    "print(habitantes['EVE_CENSAL'].unique(), end = '\\n\\n')\n",
    "\n",
    "print('Valores unicos de FUENTE:', end = '\\n\\n')\n",
    "print(habitantes['FUENTE'].unique(), end = '\\n\\n')\n",
    "\n",
    "print('Valores unicos de INDICE_HAB:', end = '\\n\\n')\n",
    "print(habitantes['INDICE_HAB'].unique(), end = '\\n\\n')\n",
    "\n"
   ]
  },
  {
   "cell_type": "code",
   "execution_count": null,
   "id": "922f763f",
   "metadata": {},
   "outputs": [],
   "source": [
    "habitantes['TOT_HAB'] =pd.to_numeric(habitantes['TOT_HAB'], \n",
    "                                     errors='coerce')\n",
    "\n",
    "habitantes['TOT_HOM'] =pd.to_numeric(habitantes['TOT_HOM'], \n",
    "                                     errors='coerce',\n",
    "                                     downcast='integer')\n",
    "\n",
    "habitantes['TOT_MUJ'] =pd.to_numeric(habitantes['TOT_MUJ'], \n",
    "                                     errors='coerce',\n",
    "                                     downcast='integer')"
   ]
  },
  {
   "cell_type": "code",
   "execution_count": null,
   "id": "2d7a9ea7",
   "metadata": {},
   "outputs": [],
   "source": [
    "habitantes.loc[habitantes['EVE_CENSAL'] == 1921]"
   ]
  },
  {
   "cell_type": "code",
   "execution_count": null,
   "id": "f402bc0d",
   "metadata": {},
   "outputs": [],
   "source": [
    "  "
   ]
  }
 ],
 "metadata": {
  "kernelspec": {
   "display_name": "Python 3 (ipykernel)",
   "language": "python",
   "name": "python3"
  },
  "language_info": {
   "codemirror_mode": {
    "name": "ipython",
    "version": 3
   },
   "file_extension": ".py",
   "mimetype": "text/x-python",
   "name": "python",
   "nbconvert_exporter": "python",
   "pygments_lexer": "ipython3",
   "version": "3.9.7"
  }
 },
 "nbformat": 4,
 "nbformat_minor": 5
}
